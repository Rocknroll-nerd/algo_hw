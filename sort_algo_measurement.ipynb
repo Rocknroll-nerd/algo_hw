{
  "nbformat": 4,
  "nbformat_minor": 0,
  "metadata": {
    "colab": {
      "name": "sort_algo_measurement.ipynb",
      "provenance": [],
      "collapsed_sections": [],
      "authorship_tag": "ABX9TyMWx4nyj0JYgGZlqRRXag8L",
      "include_colab_link": true
    },
    "kernelspec": {
      "name": "python3",
      "display_name": "Python 3"
    }
  },
  "cells": [
    {
      "cell_type": "markdown",
      "metadata": {
        "id": "view-in-github",
        "colab_type": "text"
      },
      "source": [
        "<a href=\"https://colab.research.google.com/github/Rocknroll-nerd/algo_hw/blob/master/sort_algo_measurement.ipynb\" target=\"_parent\"><img src=\"https://colab.research.google.com/assets/colab-badge.svg\" alt=\"Open In Colab\"/></a>"
      ]
    },
    {
      "cell_type": "markdown",
      "metadata": {
        "id": "ZNb69jIcrHhu"
      },
      "source": [
        "1. Implement bubble sort and measure its performance for various list\n",
        "sizes.\n",
        "Plot the dependence of working time on the list size. Compare with the\n",
        "execution time of the built-in function sort in class list.\n"
      ]
    },
    {
      "cell_type": "code",
      "metadata": {
        "id": "ci5hDheSpoS2"
      },
      "source": [
        "import time\n",
        "import matplotlib.pyplot as plt\n",
        "import numpy as np\n",
        "import random"
      ],
      "execution_count": null,
      "outputs": []
    },
    {
      "cell_type": "code",
      "metadata": {
        "id": "8d5_s8NX1IwI"
      },
      "source": [
        "#for prettier random nums\n",
        "random.seed(42)"
      ],
      "execution_count": null,
      "outputs": []
    },
    {
      "cell_type": "code",
      "metadata": {
        "id": "vZN327aVtXid"
      },
      "source": [
        "#func that helps to count time\n",
        "def timed(f, args):\n",
        "  start = time.time()\n",
        "  ret = f(args)\n",
        "  elapsed = time.time() - start\n",
        "  return ret, elapsed"
      ],
      "execution_count": null,
      "outputs": []
    },
    {
      "cell_type": "code",
      "metadata": {
        "id": "BEQPvvK-HHb4",
        "colab": {
          "base_uri": "https://localhost:8080/",
          "height": 34
        },
        "outputId": "bff2a9c2-8a2f-4a32-d711-f61e66920514"
      },
      "source": [
        "arr = [random.randint(1, 10000) for i in range(10000)]\n",
        "arr[0:10]"
      ],
      "execution_count": null,
      "outputs": [
        {
          "output_type": "execute_result",
          "data": {
            "text/plain": [
              "[1825, 410, 4507, 4013, 3658, 2287, 1680, 8936, 1425, 9675]"
            ]
          },
          "metadata": {
            "tags": []
          },
          "execution_count": 11
        }
      ]
    },
    {
      "cell_type": "code",
      "metadata": {
        "id": "21fHCGKVso9R",
        "colab": {
          "base_uri": "https://localhost:8080/",
          "height": 34
        },
        "outputId": "1a4d4311-d5d6-4a06-8813-b5bd33ab415f"
      },
      "source": [
        "def bubbleSort(arr): \n",
        "    n = len(arr) \n",
        "    for i in range(n-1): \n",
        "        for j in range(0, n-i-1): \n",
        "            if arr[j] > arr[j+1] : \n",
        "                arr[j], arr[j+1] = arr[j+1], arr[j] \n",
        "\n",
        "timed(bubbleSort, arr)\n",
        "#for 10000 elements"
      ],
      "execution_count": null,
      "outputs": [
        {
          "output_type": "execute_result",
          "data": {
            "text/plain": [
              "(None, 7.681139945983887)"
            ]
          },
          "metadata": {
            "tags": []
          },
          "execution_count": 12
        }
      ]
    },
    {
      "cell_type": "code",
      "metadata": {
        "id": "vw3xbXBrMO0D"
      },
      "source": [
        "def timeBubble():\n",
        "  plotTimeForBubble= []\n",
        "  listOfEls= [i for i in range(10000)]\n",
        "  for f in range(1000):\n",
        "      x = timed(bubbleSort, [random.randint(1,10000) for f in range(listOfEls[f])])[1]\n",
        "      plotTimeForBubble.append(x)\n",
        "  plt.style.use('ggplot')    \n",
        "  plt.plot(listOfEls[0:1000], plotTimeForBubble)"
      ],
      "execution_count": null,
      "outputs": []
    },
    {
      "cell_type": "code",
      "metadata": {
        "id": "6Mt3UepGNA_n",
        "colab": {
          "base_uri": "https://localhost:8080/",
          "height": 265
        },
        "outputId": "423d7c98-012c-40aa-a5f1-1498f9ce6c43"
      },
      "source": [
        "timeBubble()"
      ],
      "execution_count": null,
      "outputs": [
        {
          "output_type": "display_data",
          "data": {
            "image/png": "[encoded data removed]",
            "text/plain": [
              "<Figure size 432x288 with 1 Axes>"
            ]
          },
          "metadata": {
            "tags": []
          }
        }
      ]
    },
    {
      "cell_type": "code",
      "metadata": {
        "id": "qxd7ymtGxLY-"
      },
      "source": [
        "def sorting(arr):\n",
        "  arr.sort()"
      ],
      "execution_count": null,
      "outputs": []
    },
    {
      "cell_type": "code",
      "metadata": {
        "id": "cWufRO5cXQLs"
      },
      "source": [
        "def timeSort():\n",
        "  plotTimeForSort= []\n",
        "  listOfEls= [i for i in range(1000)]\n",
        "  for f in range(1000):\n",
        "      x = timed(sorting, [random.randint(1,10000) for f in range(listOfEls[f])])[1]\n",
        "      plotTimeForSort.append(x)\n",
        "  plt.style.use('ggplot')    \n",
        "  plt.plot(listOfEls, plotTimeForSort)"
      ],
      "execution_count": null,
      "outputs": []
    },
    {
      "cell_type": "code",
      "metadata": {
        "id": "QaOUPqiPXaKZ",
        "colab": {
          "base_uri": "https://localhost:8080/",
          "height": 265
        },
        "outputId": "612df982-5bac-4604-d4cb-cc2e9324a443"
      },
      "source": [
        "#bubblesort is growing much faster\n",
        "#list.sort() is better for sorting elements than bubble\n",
        "timeSort()"
      ],
      "execution_count": null,
      "outputs": [
        {
          "output_type": "display_data",
          "data": {
            "image/png": "[encoded data removed]",
            "text/plain": [
              "<Figure size 432x288 with 1 Axes>"
            ]
          },
          "metadata": {
            "tags": []
          }
        }
      ]
    },
    {
      "cell_type": "markdown",
      "metadata": {
        "id": "rTVWUdhNZth3"
      },
      "source": [
        "\n",
        "2. Implement quicksort and measure its performance for various list\n",
        "sizes.\n",
        "Plot the dependence of working time on the list size. Compare with the\n",
        "execution time of bubble sort and with the built-in function sort in\n",
        "class list."
      ]
    },
    {
      "cell_type": "code",
      "metadata": {
        "id": "Nr5ncTRHZs5O",
        "colab": {
          "base_uri": "https://localhost:8080/",
          "height": 34
        },
        "outputId": "d52827ab-fac3-4709-b8ed-5674b8ec268f"
      },
      "source": [
        "#algo of quicksort\n",
        "def quick(arr):\n",
        "   if len(arr) <= 1:\n",
        "       return arr\n",
        "   else:\n",
        "       q = random.choice(arr)\n",
        "       s_arr = []\n",
        "       m_arr = []\n",
        "       e_arr = []\n",
        "       for n in arr:\n",
        "           if n < q:\n",
        "               s_arr.append(n)\n",
        "           elif n > q:\n",
        "               m_arr.append(n)\n",
        "           else:\n",
        "               e_arr.append(n)\n",
        "       return quick(s_arr) + e_arr + quick(m_arr)\n",
        "\n",
        "arr=[7, 10, 12, 35, 2, 14, 8, 169]\n",
        "quick(arr)"
      ],
      "execution_count": null,
      "outputs": [
        {
          "output_type": "execute_result",
          "data": {
            "text/plain": [
              "[2, 7, 8, 10, 12, 14, 35, 169]"
            ]
          },
          "metadata": {
            "tags": []
          },
          "execution_count": 18
        }
      ]
    },
    {
      "cell_type": "code",
      "metadata": {
        "id": "nVtI2xMrduzM"
      },
      "source": [
        "def timeQuick():\n",
        "  plotTimeForSort= []\n",
        "  listOfEls= [i for i in range(1000)]\n",
        "  for f in range(1000):\n",
        "      x = timed(quick, [random.randint(1,10000) for f in range(listOfEls[f])])[1]\n",
        "      plotTimeForSort.append(x)\n",
        "  plt.style.use('ggplot')    \n",
        "  plt.plot(listOfEls, plotTimeForSort)"
      ],
      "execution_count": null,
      "outputs": []
    },
    {
      "cell_type": "code",
      "metadata": {
        "id": "r-URL9tEeV0Y",
        "colab": {
          "base_uri": "https://localhost:8080/",
          "height": 265
        },
        "outputId": "c4235965-276b-488a-8a14-3aeabd7dcc4d"
      },
      "source": [
        "timeQuick()"
      ],
      "execution_count": null,
      "outputs": [
        {
          "output_type": "display_data",
          "data": {
            "image/png": "[encoded data removed]",
            "text/plain": [
              "<Figure size 432x288 with 1 Axes>"
            ]
          },
          "metadata": {
            "tags": []
          }
        }
      ]
    },
    {
      "cell_type": "code",
      "metadata": {
        "id": "ORRCbZ48ecuM"
      },
      "source": [
        "def compare():\n",
        "  plotTimeSort= []\n",
        "  plotTimeBub= []\n",
        "  plotTimeQuick = []\n",
        "  listOfEls= [i for i in range(1000)]\n",
        "  for f in range(len(listOfEls)):\n",
        "      quick_timer = timed(quick, [random.randint(1,10000) for f in range(listOfEls[f])])[1]\n",
        "      plotTimeQuick.append(quick_timer)\n",
        "      bub_timer = timed(bubbleSort, [random.randint(1,10000) for f in range(listOfEls[f])])[1]\n",
        "      plotTimeBub.append(bub_timer)\n",
        "      sort_timer = timed(sorting, [random.randint(1,10000) for f in range(listOfEls[f])])[1]\n",
        "      plotTimeSort.append(sort_timer)\n",
        "  plt.style.use('ggplot')    \n",
        "  plt.plot(listOfEls, plotTimeSort)\n",
        "  plt.plot(listOfEls, plotTimeBub)\n",
        "  plt.plot(listOfEls, plotTimeQuick)\n"
      ],
      "execution_count": null,
      "outputs": []
    },
    {
      "cell_type": "code",
      "metadata": {
        "id": "cZIDowPHf4KC",
        "colab": {
          "base_uri": "https://localhost:8080/",
          "height": 266
        },
        "outputId": "37727250-deee-4126-96bd-d151bef5cce2"
      },
      "source": [
        "#bubbleSort is the slowest algorythm, quick sorting is a bit slower than built-in sort function \n",
        "compare()"
      ],
      "execution_count": null,
      "outputs": [
        {
          "output_type": "display_data",
          "data": {
            "image/png": "[encoded data removed]",
            "text/plain": [
              "<Figure size 432x288 with 1 Axes>"
            ]
          },
          "metadata": {
            "tags": []
          }
        }
      ]
    },
    {
      "cell_type": "markdown",
      "metadata": {
        "id": "1jlv9X8yhI16"
      },
      "source": [
        "3. Implement Depth first graph search (DFS), use append and pop methods of the class list to implement a stack."
      ]
    },
    {
      "cell_type": "code",
      "metadata": {
        "id": "0zbAI6SIWKjR"
      },
      "source": [
        "class Node:\n",
        "   def __init__(self, value):\n",
        "      self.value = value\n",
        "      self.adjN = []\n",
        "\n",
        "def buildGraph(vertexNames, edges):\n",
        "   vertices = dict([(vertexNames[i], Node(vertexNames[i])) for i in range(len(vertexNames))])\n",
        "   for name in vertices:\n",
        "      vertices[name].value = name\n",
        "   for (v,w) in edges:\n",
        "      vertices[v].adjN.append(vertices[w])\n",
        "   return vertices[vertexNames[0]]\n"
      ],
      "execution_count": null,
      "outputs": []
    },
    {
      "cell_type": "code",
      "metadata": {
        "id": "um8pSPl8VxPw"
      },
      "source": [
        "def depthFirst(start, value):\n",
        "   visited = []\n",
        "   stack = [start]\n",
        "\n",
        "   while len(stack) > 0:\n",
        "      node = stack.pop()\n",
        "      if node in visited:\n",
        "         continue\n",
        "      visited.append(node)\n",
        "      if node.value == value:\n",
        "         return True\n",
        "\n",
        "      for n in node.adjN:\n",
        "         if n not in visited:\n",
        "            stack.append(n)\n",
        "   return False"
      ],
      "execution_count": null,
      "outputs": []
    },
    {
      "cell_type": "code",
      "metadata": {
        "id": "qBaRmrG4hIHG",
        "colab": {
          "base_uri": "https://localhost:8080/",
          "height": 34
        },
        "outputId": "e444b974-9dc2-4a08-b34e-ce446144152f"
      },
      "source": [
        "if __name__ == \"__main__\":\n",
        "   vertices = [\"A\", \"B\", \"C\", \"D\", \"E\", \"F\"]\n",
        "   edges = [(\"A\",\"B\"), (\"B\",\"C\"), (\"C\",\"E\"), (\"E\",\"D\"), (\"E\",\"F\"), (\"D\",\"B\")]\n",
        "\n",
        "   G = buildGraph(vertices, edges)\n",
        "   print(depthFirst(G, \"F\"))\n",
        "  "
      ],
      "execution_count": null,
      "outputs": [
        {
          "output_type": "stream",
          "text": [
            "True\n"
          ],
          "name": "stdout"
        }
      ]
    }
  ]
}